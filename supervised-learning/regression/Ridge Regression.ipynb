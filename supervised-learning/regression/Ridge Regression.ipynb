{
 "cells": [
  {
   "cell_type": "markdown",
   "metadata": {},
   "source": [
    "# Ridge Regression\n",
    "\n",
    "To prevent model from *Overfitting*, **Regularization** has been performed. In regularization, normally we keep the same number of features, but reduce the magnitude of the coefficients by introducing a *regularization parameter*. Ridge regression uses a **L2** regularization."
   ]
  },
  {
   "cell_type": "markdown",
   "metadata": {},
   "source": [
    "Cost function = $\\Vert{X\\theta - y}\\Vert^2 + \\lambda \\Vert{\\theta}\\Vert^2$\n",
    "\n",
    "An extra term $\\lambda$, which is known as the penalty term/regularization has been added. By changing its value, we can control $\\theta$. Higher the values of $\\lambda$, bigger is the penalty and therefore the magnitude of coefficients ($\\theta$) are reduced."
   ]
  },
  {
   "cell_type": "code",
   "execution_count": 1,
   "metadata": {
    "collapsed": true
   },
   "outputs": [],
   "source": [
    "import numpy as np\n",
    "import pandas as pd\n",
    "import matplotlib.pyplot as plt\n",
    "import math\n",
    "from collections import defaultdict\n",
    "# to load MATLAB file\n",
    "import scipy.io as sio\n",
    "from IPython.display import display, Markdown, Math\n",
    "from pprint import pprint\n",
    "\n",
    "%matplotlib inline"
   ]
  },
  {
   "cell_type": "markdown",
   "metadata": {},
   "source": [
    "### Dataset"
   ]
  },
  {
   "cell_type": "code",
   "execution_count": 2,
   "metadata": {
    "collapsed": true
   },
   "outputs": [],
   "source": [
    "dataset = sio.loadmat('rr_dataset')"
   ]
  },
  {
   "cell_type": "code",
   "execution_count": 3,
   "metadata": {},
   "outputs": [
    {
     "data": {
      "text/plain": [
       "dict_keys(['__header__', '__version__', '__globals__', 'X_trn', 'X_tst', 'Y_trn', 'Y_tst'])"
      ]
     },
     "execution_count": 3,
     "metadata": {},
     "output_type": "execute_result"
    }
   ],
   "source": [
    "dataset.keys()"
   ]
  },
  {
   "cell_type": "code",
   "execution_count": 4,
   "metadata": {
    "collapsed": true
   },
   "outputs": [],
   "source": [
    "X_train, y_train = np.matrix(dataset['X_trn']), np.matrix(dataset['Y_trn'])\n",
    "X_test, y_test = np.matrix(dataset['X_tst']), np.matrix(dataset['Y_tst'])"
   ]
  },
  {
   "cell_type": "code",
   "execution_count": 5,
   "metadata": {},
   "outputs": [
    {
     "data": {
      "text/plain": [
       "((100, 1), (100, 1))"
      ]
     },
     "execution_count": 5,
     "metadata": {},
     "output_type": "execute_result"
    }
   ],
   "source": [
    "X_train.shape, y_train.shape"
   ]
  },
  {
   "cell_type": "code",
   "execution_count": 6,
   "metadata": {},
   "outputs": [
    {
     "data": {
      "text/plain": [
       "((8, 1), (8, 1))"
      ]
     },
     "execution_count": 6,
     "metadata": {},
     "output_type": "execute_result"
    }
   ],
   "source": [
    "X_test.shape, y_test.shape"
   ]
  },
  {
   "cell_type": "markdown",
   "metadata": {},
   "source": [
    "**Adding Intercept term (a column with all 1s) to Feature Vectors**"
   ]
  },
  {
   "cell_type": "code",
   "execution_count": 7,
   "metadata": {
    "collapsed": true
   },
   "outputs": [],
   "source": [
    "X_train = np.hstack((np.ones((X_train.shape[0], 1)), X_train))\n",
    "X_test = np.hstack((np.ones((X_test.shape[0], 1)), X_test))"
   ]
  },
  {
   "cell_type": "code",
   "execution_count": 8,
   "metadata": {
    "collapsed": true
   },
   "outputs": [],
   "source": [
    "def computeCost(X, y, theta):\n",
    "    # Cost fn = (|| Xθ - y||) ^ 2\n",
    "    inner = np.power((np.dot(X, theta) - y), 2)\n",
    "    return np.sum(inner) / (2 * len(X))"
   ]
  },
  {
   "cell_type": "code",
   "execution_count": 9,
   "metadata": {
    "collapsed": true
   },
   "outputs": [],
   "source": [
    "def MSE(y, y_pred):\n",
    "    \"\"\" Returns mean squared error between the actual and predicted output.\"\"\"\n",
    "    return np.mean(np.power((y - y_pred), 2))"
   ]
  },
  {
   "cell_type": "code",
   "execution_count": 10,
   "metadata": {
    "collapsed": true
   },
   "outputs": [],
   "source": [
    "def plotCostperEpoch(cost):\n",
    "    \"\"\" plots iteration v/s cost \"\"\"\n",
    "    fig, ax = plt.subplots(figsize=(14,8))\n",
    "\n",
    "    plt.plot(np.arange(len(cost)), cost)\n",
    "    ax.set_xlabel('Iterations')\n",
    "    ax.set_ylabel('Cost')\n",
    "    ax.set_title('Error vs. Training Epoch')"
   ]
  },
  {
   "cell_type": "markdown",
   "metadata": {},
   "source": [
    "## 1) Closed Form Solution Model"
   ]
  },
  {
   "cell_type": "code",
   "execution_count": 11,
   "metadata": {
    "collapsed": true
   },
   "outputs": [],
   "source": [
    "def ridgeRegression(X, y, lamb = 1.0):\n",
    "    \"\"\" Solves for weight vector θ using closed form equation\n",
    "    \n",
    "    θridge = (X^T*X + lambda * I)^{-1}*X^T*y\n",
    "    \"\"\"\n",
    "    var = np.dot(X.T, X) + np.eye(X.shape[1]) * lamb\n",
    "    cov = np.dot(X.T, y)\n",
    "    theta = np.dot(np.linalg.inv(var), cov)\n",
    "    return theta"
   ]
  },
  {
   "cell_type": "markdown",
   "metadata": {},
   "source": [
    "## 2) Stochastic Gradient Descent Model"
   ]
  },
  {
   "cell_type": "code",
   "execution_count": 12,
   "metadata": {
    "collapsed": true
   },
   "outputs": [],
   "source": [
    "def stochasticGradientDescentRidge(X, y, theta, alpha, minibatch_size, lamb=0,\n",
    "                                   threshold=0.0001, iters=1000):\n",
    "    \"\"\" optimizes weight vector (theta) with batch of minibatch_size in each iteration,\n",
    "    until convergence\n",
    "    \n",
    "    \"\"\"\n",
    "\n",
    "    # to store temp theta to perform simultaneous update in current iteration\n",
    "    temp = np.matrix(np.zeros(theta.shape))\n",
    "    parameters = theta.ravel().shape[1]\n",
    "    cost = [np.inf]\n",
    "    \n",
    "    while True:\n",
    "        # iterating over feature matrix in batches\n",
    "        for b in range(math.ceil(len(X)/minibatch_size)):\n",
    "            # generates random samples without replacement, all unique\n",
    "            random_idx = np.random.choice(len(X), size=min(len(X), minibatch_size), replace = False)\n",
    "\n",
    "            # Get pair of (X, y) of the current minibatch/chunk\n",
    "            X_mini = X[random_idx]\n",
    "            y_mini = y[random_idx]\n",
    "            \n",
    "            error = (X_mini * theta) - y_mini\n",
    "            \n",
    "            # updated each parameter/weight in theta\n",
    "            for j in range(parameters):\n",
    "                # training element-wise multiplication of jth feature with the error\n",
    "                term = np.multiply(error, X_mini[:,j])\n",
    "                temp[j, 0] = theta[j, 0] - ((alpha / len(X_mini)) * (np.sum(term) + lamb * theta[j, 0]))\n",
    "\n",
    "            theta = temp\n",
    "            \n",
    "        cost.append(computeCost(X, y, theta))\n",
    "        \n",
    "        # check for convergence, i.e. if difference is cost within threshold\n",
    "        if (cost[-2]-cost[-1]) > 0 and (cost[-2]-cost[-1]) < threshold:\n",
    "            break\n",
    "        \n",
    "    return theta, cost"
   ]
  },
  {
   "cell_type": "markdown",
   "metadata": {},
   "source": [
    "### Tuning the Hyperparameter for Regularization ($\\lambda$):\n",
    "\n",
    "Optimal $\\lambda$: Minimum mean holdout set error"
   ]
  },
  {
   "cell_type": "code",
   "execution_count": 13,
   "metadata": {
    "collapsed": true
   },
   "outputs": [],
   "source": [
    "lambda_list = [0.03, 0.1, 0.3, 1, 3]"
   ]
  },
  {
   "cell_type": "code",
   "execution_count": 14,
   "metadata": {
    "collapsed": true
   },
   "outputs": [],
   "source": [
    "def regularizationParameter(X, y, kfolds, alpha, minibatch_size, threshold=0.0001, \n",
    "                            lambda_list = lambda_list):\n",
    "    \"\"\" finds the optimal lambda from lambda_list\n",
    "    \n",
    "    optimal lambda will be the one with minimum mean error on holdout set\n",
    "    \"\"\"\n",
    "    theta0 = np.matrix(np.zeros((X.shape[1], 1)))\n",
    "    \n",
    "    shuffled_idx = np.random.choice(len(X), size=len(X), replace = False)\n",
    "    idx_per_fold = round(len(X)/kfolds)\n",
    "    if len(X) % kfolds != 0:\n",
    "        kfolds += 1\n",
    "        \n",
    "    lambda_errorlist = defaultdict(list)\n",
    "    \n",
    "    for lamb in lambda_list:\n",
    "        # divides data into k-folds\n",
    "        for k in range(kfolds):\n",
    "            #holdout_idx = np.arange(k*idx_per_fold, (k+1)*idx_per_fold)\n",
    "            holdout_idx = shuffled_idx[k*idx_per_fold : (k+1)*idx_per_fold]\n",
    "            #X_holdout = X[k*idx_per_fold : (k+1)*idx_per_fold]\n",
    "            #X_training = np.delete(X,holdout_idx, axis=0)\n",
    "            # Holdout data - kth fold\n",
    "            X_holdout = X[holdout_idx]\n",
    "            y_holdout = y[holdout_idx]\n",
    "            # Training data - other than kth fold\n",
    "            X_training = X[~holdout_idx]\n",
    "            y_training = y[~holdout_idx]\n",
    "            \n",
    "            thetalk, _ = stochasticGradientDescentRidge(X_training, y_training, theta0, \n",
    "                                                        alpha, minibatch_size, lamb, threshold)\n",
    "            # error on the kth holdout set\n",
    "            holdout_error_lk = computeCost(X_holdout, y_holdout, thetalk)\n",
    "            \n",
    "            lambda_errorlist[lamb].append(holdout_error_lk)\n",
    "            # print(\"{0}th holdout error(λ={1}): {2}\".format(k, lamb, holdout_error_lk))\n",
    "            \n",
    "    pprint(dict(lambda_errorlist))\n",
    "    # find optimal lambda i.e. with mimimum mean error on k holdout sets\n",
    "    lambda_optimal = min(lambda_errorlist, key= lambda l: np.mean(lambda_errorlist[l]))\n",
    "    \n",
    "    return lambda_optimal"
   ]
  },
  {
   "cell_type": "markdown",
   "metadata": {},
   "source": [
    "### 1) Modelling the Parameter $\\theta$ : 2-Folds for tuning $\\lambda$"
   ]
  },
  {
   "cell_type": "code",
   "execution_count": 15,
   "metadata": {
    "collapsed": true
   },
   "outputs": [],
   "source": [
    "kfolds_2 = 2"
   ]
  },
  {
   "cell_type": "markdown",
   "metadata": {},
   "source": [
    "### 1.a) 2-degree Polynomial"
   ]
  },
  {
   "cell_type": "code",
   "execution_count": 16,
   "metadata": {
    "collapsed": true
   },
   "outputs": [],
   "source": [
    "# adding quadratic term to the feature matrix\n",
    "X_train_2d = np.hstack((X_train, np.power(X_train[:, 1:], 2)))\n",
    "X_test_2d = np.hstack((X_test, np.power(X_test[:, 1:], 2)))"
   ]
  },
  {
   "cell_type": "markdown",
   "metadata": {},
   "source": [
    "**Closed-form**"
   ]
  },
  {
   "cell_type": "code",
   "execution_count": 17,
   "metadata": {},
   "outputs": [
    {
     "data": {
      "text/markdown": [
       "$\\theta_{ridge}$ for 2-degree polynomial (Closed-form)"
      ],
      "text/plain": [
       "<IPython.core.display.Markdown object>"
      ]
     },
     "metadata": {},
     "output_type": "display_data"
    },
    {
     "data": {
      "text/plain": [
       "matrix([[29.96240203],\n",
       "        [13.51059923],\n",
       "        [-0.30515645]])"
      ]
     },
     "metadata": {},
     "output_type": "display_data"
    }
   ],
   "source": [
    "theta_2d_closed = ridgeRegression(X_train_2d, y_train)\n",
    "display(Markdown(r'$\\theta_{ridge}$' + ' for 2-degree polynomial (Closed-form)'))\n",
    "display(theta_2d_closed)"
   ]
  },
  {
   "cell_type": "code",
   "execution_count": 18,
   "metadata": {},
   "outputs": [
    {
     "name": "stdout",
     "output_type": "stream",
     "text": [
      "MSE for Training set for 2-degree polynomial: 868.4131\n",
      "MSE for Test set for 2-degree polynomial: 1746.5616\n"
     ]
    }
   ],
   "source": [
    "y_train_predict_2d_closed = np.dot(X_train_2d, theta_2d_closed)\n",
    "print(\"MSE for Training set for 2-degree polynomial: {0:.4f}\"\n",
    "      .format(MSE(np.asarray(y_train), np.asarray(y_train_predict_2d_closed))))\n",
    "\n",
    "y_test_predict_2d_closed = np.dot(X_test_2d, theta_2d_closed)\n",
    "print(\"MSE for Test set for 2-degree polynomial: {0:.4f}\"\n",
    "      .format(MSE(np.asarray(y_test), np.asarray(y_test_predict_2d_closed))))"
   ]
  },
  {
   "cell_type": "markdown",
   "metadata": {},
   "source": [
    "**Mini-batch Gradient Descent**"
   ]
  },
  {
   "cell_type": "code",
   "execution_count": 19,
   "metadata": {},
   "outputs": [
    {
     "name": "stdout",
     "output_type": "stream",
     "text": [
      "{0.03: [441.8064709165033, 685.6945794116552],\n",
      " 0.1: [481.95745723982986, 649.70745213292],\n",
      " 0.3: [398.81790501531776, 701.8915856713564],\n",
      " 1: [411.4911434338769, 689.2419190248943],\n",
      " 3: [410.7077902858789, 733.5208979481]}\n",
      "Optimal lambda with 2-folds on 2-degree polynomial data: 0.3\n"
     ]
    }
   ],
   "source": [
    "alpha = 0.00001\n",
    "minibatch_size = 5\n",
    "\n",
    "lambda_optimal_2k2d = regularizationParameter(X_train_2d, y_train, kfolds_2, alpha, minibatch_size)\n",
    "print(\"Optimal lambda with 2-folds on 2-degree polynomial data: {}\".format(lambda_optimal_2k2d))"
   ]
  },
  {
   "cell_type": "code",
   "execution_count": 20,
   "metadata": {},
   "outputs": [
    {
     "data": {
      "text/markdown": [
       "Initial  $\\theta_{ridge}$ = "
      ],
      "text/plain": [
       "<IPython.core.display.Markdown object>"
      ]
     },
     "metadata": {},
     "output_type": "display_data"
    },
    {
     "data": {
      "text/plain": [
       "matrix([[0.],\n",
       "        [0.],\n",
       "        [0.]])"
      ]
     },
     "metadata": {},
     "output_type": "display_data"
    }
   ],
   "source": [
    "theta0_2d = np.matrix(np.zeros((X_train_2d.shape[1], 1)))\n",
    "display(Markdown(r'Initial  $\\theta_{ridge}$ = ') , theta0_2d)"
   ]
  },
  {
   "cell_type": "code",
   "execution_count": 21,
   "metadata": {},
   "outputs": [
    {
     "data": {
      "text/markdown": [
       "$\\theta_{ridge}$ for 2-degree polynomial (Minibatch Gradient Descent)"
      ],
      "text/plain": [
       "<IPython.core.display.Markdown object>"
      ]
     },
     "metadata": {},
     "output_type": "display_data"
    },
    {
     "data": {
      "text/plain": [
       "matrix([[11.07727488],\n",
       "        [14.09759736],\n",
       "        [ 0.34645472]])"
      ]
     },
     "metadata": {},
     "output_type": "display_data"
    }
   ],
   "source": [
    "theta_2d_sg, cost_2d_sg = stochasticGradientDescentRidge(X_train_2d, y_train, theta0_2d, alpha, \n",
    "                                                         minibatch_size, lambda_optimal_2k2d)\n",
    "display(Markdown(r'$\\theta_{ridge}$' + ' for 2-degree polynomial (Minibatch Gradient Descent)'))\n",
    "display(theta_2d_sg)"
   ]
  },
  {
   "cell_type": "code",
   "execution_count": 22,
   "metadata": {},
   "outputs": [
    {
     "name": "stdout",
     "output_type": "stream",
     "text": [
      "MSE for Training set for 2-degree poynomial (2-folds): 1035.0440\n",
      "MSE for Test set for 2-degree poynomial (2-folds): 1651.0098\n"
     ]
    }
   ],
   "source": [
    "y_train_predict_2d_sg = np.dot(X_train_2d, theta_2d_sg)\n",
    "mse_train_2d_sg = MSE(np.asarray(y_train), np.asarray(y_train_predict_2d_sg))\n",
    "print(\"MSE for Training set for 2-degree poynomial (2-folds): {0:.4f}\".format(mse_train_2d_sg))\n",
    "\n",
    "y_test_predict_2d_sg = np.dot(X_test_2d, theta_2d_sg)\n",
    "mse_test_2d_sg = MSE(np.asarray(y_test), np.asarray(y_test_predict_2d_sg))\n",
    "print(\"MSE for Test set for 2-degree poynomial (2-folds): {0:.4f}\".format(mse_test_2d_sg))"
   ]
  },
  {
   "cell_type": "code",
   "execution_count": 23,
   "metadata": {},
   "outputs": [
    {
     "data": {
      "image/png": "[encoded data removed]",
      "text/plain": [
       "<Figure size 1008x576 with 1 Axes>"
      ]
     },
     "metadata": {},
     "output_type": "display_data"
    }
   ],
   "source": [
    "plotCostperEpoch(cost_2d_sg)"
   ]
  },
  {
   "cell_type": "markdown",
   "metadata": {},
   "source": [
    "### 1.b) 3-degree Polynomial"
   ]
  },
  {
   "cell_type": "code",
   "execution_count": 24,
   "metadata": {
    "collapsed": true
   },
   "outputs": [],
   "source": [
    "# adding quadratic and cubic term to the feature matrix\n",
    "X_train_3d = np.hstack((X_train, np.power(X_train[:, 1:], 2), np.power(X_train[:, 1:], 3)))\n",
    "X_test_3d = np.hstack((X_test, np.power(X_test[:, 1:], 2), np.power(X_test[:, 1:], 3)))"
   ]
  },
  {
   "cell_type": "markdown",
   "metadata": {},
   "source": [
    "**Closed-form**"
   ]
  },
  {
   "cell_type": "code",
   "execution_count": 25,
   "metadata": {},
   "outputs": [
    {
     "data": {
      "text/markdown": [
       "$\\theta_{ridge}$ for 3-degree polynomial (Closed-form)"
      ],
      "text/plain": [
       "<IPython.core.display.Markdown object>"
      ]
     },
     "metadata": {},
     "output_type": "display_data"
    },
    {
     "data": {
      "text/plain": [
       "matrix([[ 9.59691477],\n",
       "        [-0.8820544 ],\n",
       "        [ 1.41233801],\n",
       "        [ 0.51139925]])"
      ]
     },
     "metadata": {},
     "output_type": "display_data"
    }
   ],
   "source": [
    "theta_3d_closed = ridgeRegression(X_train_3d, y_train)\n",
    "display(Markdown(r'$\\theta_{ridge}$' + ' for 3-degree polynomial (Closed-form)'))\n",
    "display(theta_3d_closed)"
   ]
  },
  {
   "cell_type": "code",
   "execution_count": 26,
   "metadata": {},
   "outputs": [
    {
     "name": "stdout",
     "output_type": "stream",
     "text": [
      "MSE for Training set for 3-degree poynomial: 44.2774\n",
      "MSE for Test set for 3-degree poynomial: 210.1724\n"
     ]
    }
   ],
   "source": [
    "y_train_predict_3d_closed = np.dot(X_train_3d, theta_3d_closed)\n",
    "print(\"MSE for Training set for 3-degree poynomial: {0:.4f}\"\n",
    "      .format(MSE(np.asarray(y_train), np.asarray(y_train_predict_3d_closed))))\n",
    "\n",
    "y_test_predict_3d_closed = np.dot(X_test_3d, theta_3d_closed)\n",
    "print(\"MSE for Test set for 3-degree poynomial: {0:.4f}\"\n",
    "      .format(MSE(np.asarray(y_test), np.asarray(y_test_predict_3d_closed))))"
   ]
  },
  {
   "cell_type": "markdown",
   "metadata": {},
   "source": [
    "**Mini-batch Gradient Descent**"
   ]
  },
  {
   "cell_type": "code",
   "execution_count": 27,
   "metadata": {},
   "outputs": [
    {
     "name": "stdout",
     "output_type": "stream",
     "text": [
      "{0.03: [44.67013446882804, 87.69622414069528],\n",
      " 0.1: [72.84446941904758, 99.42482822466984],\n",
      " 0.3: [47.26750006180812, 81.6216764186088],\n",
      " 1: [46.69461125203407, 75.12073779058443],\n",
      " 3: [38.80014565325728, 89.65968432560884]}\n",
      "Optimal lambda with 2-folds on 3-degree polynomial data: 1\n"
     ]
    }
   ],
   "source": [
    "alpha = 0.0000001\n",
    "minibatch_size = 5\n",
    "\n",
    "lambda_optimal_2k3d = regularizationParameter(X_train_3d, y_train, kfolds_2, alpha, minibatch_size)\n",
    "print(\"Optimal lambda with 2-folds on 3-degree polynomial data: {}\".format(lambda_optimal_2k3d))"
   ]
  },
  {
   "cell_type": "code",
   "execution_count": 28,
   "metadata": {},
   "outputs": [
    {
     "data": {
      "text/markdown": [
       "Initial  $\\theta_{ridge}$ = "
      ],
      "text/plain": [
       "<IPython.core.display.Markdown object>"
      ]
     },
     "metadata": {},
     "output_type": "display_data"
    },
    {
     "data": {
      "text/plain": [
       "matrix([[0.],\n",
       "        [0.],\n",
       "        [0.],\n",
       "        [0.]])"
      ]
     },
     "metadata": {},
     "output_type": "display_data"
    }
   ],
   "source": [
    "theta0_3d = np.matrix(np.zeros((X_train_3d.shape[1], 1)))\n",
    "display(Markdown(r'Initial  $\\theta_{ridge}$ = ') , theta0_3d)"
   ]
  },
  {
   "cell_type": "code",
   "execution_count": 29,
   "metadata": {},
   "outputs": [
    {
     "data": {
      "text/markdown": [
       "$\\theta_{ridge}$ for 3-degree polynomial (Minibatch Gradient Descent)"
      ],
      "text/plain": [
       "<IPython.core.display.Markdown object>"
      ]
     },
     "metadata": {},
     "output_type": "display_data"
    },
    {
     "data": {
      "text/plain": [
       "matrix([[0.08649502],\n",
       "        [0.02899012],\n",
       "        [1.59235573],\n",
       "        [0.49301788]])"
      ]
     },
     "metadata": {},
     "output_type": "display_data"
    }
   ],
   "source": [
    "theta_3d_sg, cost_3d_sg = stochasticGradientDescentRidge(X_train_3d, y_train, theta0_3d, alpha, \n",
    "                                                         minibatch_size, lambda_optimal_2k3d)\n",
    "display(Markdown(r'$\\theta_{ridge}$' + ' for 3-degree polynomial (Minibatch Gradient Descent)'))\n",
    "display(theta_3d_sg)"
   ]
  },
  {
   "cell_type": "code",
   "execution_count": 30,
   "metadata": {},
   "outputs": [
    {
     "name": "stdout",
     "output_type": "stream",
     "text": [
      "MSE for Training set for 3-degree poynomial (2-folds): 96.1018\n",
      "MSE for Test set for 3-degree poynomial (2-folds): 284.0777\n"
     ]
    }
   ],
   "source": [
    "y_train_predict_3d_sg = np.dot(X_train_3d, theta_3d_sg)\n",
    "mse_train_3d_sg = MSE(np.asarray(y_train), np.asarray(y_train_predict_3d_sg))\n",
    "print(\"MSE for Training set for 3-degree poynomial (2-folds): {0:.4f}\".format(mse_train_3d_sg))\n",
    "\n",
    "y_test_predict_3d_sg = np.dot(X_test_3d, theta_3d_sg)\n",
    "mse_test_3d_sg = MSE(np.asarray(y_test), np.asarray(y_test_predict_3d_sg))\n",
    "print(\"MSE for Test set for 3-degree poynomial (2-folds): {0:.4f}\".format(mse_test_3d_sg))"
   ]
  },
  {
   "cell_type": "code",
   "execution_count": 31,
   "metadata": {},
   "outputs": [
    {
     "data": {
      "image/png": "[encoded data removed]",
      "text/plain": [
       "<Figure size 1008x576 with 1 Axes>"
      ]
     },
     "metadata": {},
     "output_type": "display_data"
    }
   ],
   "source": [
    "plotCostperEpoch(cost_3d_sg)"
   ]
  },
  {
   "cell_type": "markdown",
   "metadata": {},
   "source": [
    "### 1.c) 5-degree Polynomial"
   ]
  },
  {
   "cell_type": "code",
   "execution_count": 32,
   "metadata": {
    "collapsed": true
   },
   "outputs": [],
   "source": [
    "X_train_5d = np.hstack((X_train, np.power(X_train[:, 1:], 2), np.power(X_train[:, 1:], 3),\n",
    "                        np.power(X_train[:, 1:], 4), np.power(X_train[:, 1:], 5)))\n",
    "X_test_5d = np.hstack((X_test, np.power(X_test[:, 1:], 2), np.power(X_test[:, 1:], 3), \n",
    "                       np.power(X_test[:, 1:], 4), np.power(X_test[:, 1:], 5)))"
   ]
  },
  {
   "cell_type": "markdown",
   "metadata": {},
   "source": [
    "**Closed-form**"
   ]
  },
  {
   "cell_type": "code",
   "execution_count": 33,
   "metadata": {},
   "outputs": [
    {
     "data": {
      "text/markdown": [
       "$\\theta_{ridge}$ for 5-degree polynomial (Closed-form)"
      ],
      "text/plain": [
       "<IPython.core.display.Markdown object>"
      ]
     },
     "metadata": {},
     "output_type": "display_data"
    },
    {
     "data": {
      "text/plain": [
       "matrix([[1.02564432e+01],\n",
       "        [7.53741068e-02],\n",
       "        [1.18688844e+00],\n",
       "        [4.19667762e-01],\n",
       "        [7.84185555e-03],\n",
       "        [1.86444160e-03]])"
      ]
     },
     "metadata": {},
     "output_type": "display_data"
    }
   ],
   "source": [
    "theta_5d_closed = ridgeRegression(X_train_5d, y_train)\n",
    "display(Markdown(r'$\\theta_{ridge}$' + ' for 5-degree polynomial (Closed-form)'))\n",
    "display(theta_5d_closed)"
   ]
  },
  {
   "cell_type": "code",
   "execution_count": 34,
   "metadata": {},
   "outputs": [
    {
     "name": "stdout",
     "output_type": "stream",
     "text": [
      "MSE for Training set for 5-degree poynomial: 42.4199\n",
      "MSE for Test set for 5-degree poynomial: 208.5669\n"
     ]
    }
   ],
   "source": [
    "y_train_predict_5d_closed = np.dot(X_train_5d, theta_5d_closed)\n",
    "print(\"MSE for Training set for 5-degree poynomial: {0:.4f}\"\n",
    "      .format(MSE(np.asarray(y_train), np.asarray(y_train_predict_5d_closed))))\n",
    "\n",
    "y_test_predict_5d_closed = np.dot(X_test_5d, theta_5d_closed)\n",
    "print(\"MSE for Test set for 5-degree poynomial: {0:.4f}\"\n",
    "      .format(MSE(np.asarray(y_test), np.asarray(y_test_predict_5d_closed))))"
   ]
  },
  {
   "cell_type": "markdown",
   "metadata": {},
   "source": [
    "**Mini-batch Gradient Descent**"
   ]
  },
  {
   "cell_type": "code",
   "execution_count": 35,
   "metadata": {
    "scrolled": true
   },
   "outputs": [
    {
     "name": "stdout",
     "output_type": "stream",
     "text": [
      "{0.03: [372.3465733852374, 126.43146093782102],\n",
      " 0.1: [301.3745608225818, 124.68980629413937],\n",
      " 0.3: [163.8703065170658, 127.03750617108561],\n",
      " 1: [166.49791074042776, 125.20297838545854],\n",
      " 3: [501.67438651731186, 189.70764328252957]}\n",
      "Optimal lambda with 2-folds on 5-degree polynomial data: 0.3\n"
     ]
    }
   ],
   "source": [
    "alpha = 0.0000000001\n",
    "minibatch_size = 10\n",
    "threshold = 0.00001\n",
    "\n",
    "lambda_optimal_2k5d = regularizationParameter(X_train_5d, y_train, kfolds_2, alpha, \n",
    "                                              minibatch_size, threshold)\n",
    "print(\"Optimal lambda with 2-folds on 5-degree polynomial data: {}\".format(lambda_optimal_2k5d))"
   ]
  },
  {
   "cell_type": "code",
   "execution_count": 36,
   "metadata": {},
   "outputs": [
    {
     "data": {
      "text/markdown": [
       "Initial  $\\theta_{ridge}$ = "
      ],
      "text/plain": [
       "<IPython.core.display.Markdown object>"
      ]
     },
     "metadata": {},
     "output_type": "display_data"
    },
    {
     "data": {
      "text/plain": [
       "matrix([[0.],\n",
       "        [0.],\n",
       "        [0.],\n",
       "        [0.],\n",
       "        [0.],\n",
       "        [0.]])"
      ]
     },
     "metadata": {},
     "output_type": "display_data"
    }
   ],
   "source": [
    "alpha = 0.0000000001\n",
    "minibatch_size = 5\n",
    "threshold = 0.00001\n",
    "\n",
    "theta0_5d = np.matrix(np.zeros((X_train_5d.shape[1], 1)))\n",
    "display(Markdown(r'Initial  $\\theta_{ridge}$ = ') , theta0_5d)"
   ]
  },
  {
   "cell_type": "code",
   "execution_count": 37,
   "metadata": {},
   "outputs": [
    {
     "data": {
      "text/markdown": [
       "$\\theta_{ridge}$ for 5-degree polynomial (Minibatch Gradient Descent)"
      ],
      "text/plain": [
       "<IPython.core.display.Markdown object>"
      ]
     },
     "metadata": {},
     "output_type": "display_data"
    },
    {
     "data": {
      "text/plain": [
       "matrix([[0.00019583],\n",
       "        [0.00067981],\n",
       "        [0.00223841],\n",
       "        [0.0116816 ],\n",
       "        [0.06998688],\n",
       "        [0.01413955]])"
      ]
     },
     "metadata": {},
     "output_type": "display_data"
    }
   ],
   "source": [
    "theta_5d_sg, cost_5d_sg = stochasticGradientDescentRidge(X_train_5d, y_train, theta0_5d, alpha,\n",
    "                                                         minibatch_size, lambda_optimal_2k5d, threshold)\n",
    "display(Markdown(r'$\\theta_{ridge}$' + ' for 5-degree polynomial (Minibatch Gradient Descent)'))\n",
    "display(theta_5d_sg)"
   ]
  },
  {
   "cell_type": "code",
   "execution_count": 38,
   "metadata": {},
   "outputs": [
    {
     "name": "stdout",
     "output_type": "stream",
     "text": [
      "MSE for Training set for 5-degree poynomial (2-folds): 263.8187\n",
      "MSE for Test set for 5-degree poynomial (2-folds): 808.2390\n"
     ]
    }
   ],
   "source": [
    "y_train_predict_5d_sg = np.dot(X_train_5d, theta_5d_sg)\n",
    "mse_train_5d_sg = MSE(np.asarray(y_train), np.asarray(y_train_predict_5d_sg))\n",
    "print(\"MSE for Training set for 5-degree poynomial (2-folds): {0:.4f}\".format(mse_train_5d_sg))\n",
    "\n",
    "y_test_predict_5d_sg = np.dot(X_test_5d, theta_5d_sg)\n",
    "mse_test_5d_sg = MSE(np.asarray(y_test), np.asarray(y_test_predict_5d_sg))\n",
    "print(\"MSE for Test set for 5-degree poynomial (2-folds): {0:.4f}\".format(mse_test_5d_sg))"
   ]
  },
  {
   "cell_type": "code",
   "execution_count": 39,
   "metadata": {},
   "outputs": [
    {
     "data": {
      "image/png": "[encoded data removed]",
      "text/plain": [
       "<Figure size 1008x576 with 1 Axes>"
      ]
     },
     "metadata": {},
     "output_type": "display_data"
    }
   ],
   "source": [
    "plotCostperEpoch(cost_5d_sg)"
   ]
  },
  {
   "cell_type": "markdown",
   "metadata": {},
   "source": [
    "## MSE w.r.t. Number of features"
   ]
  },
  {
   "cell_type": "code",
   "execution_count": 40,
   "metadata": {},
   "outputs": [],
   "source": [
    "x_data = [2, 3, 5]\n",
    "y_train_data = [mse_train_2d_sg, mse_train_3d_sg, mse_train_5d_sg]\n",
    "y_test_data = [mse_test_2d_sg, mse_test_3d_sg, mse_test_5d_sg]"
   ]
  },
  {
   "cell_type": "code",
   "execution_count": 41,
   "metadata": {},
   "outputs": [
    {
     "data": {
      "image/png": "[encoded data removed]",
      "text/plain": [
       "<Figure size 1008x576 with 1 Axes>"
      ]
     },
     "metadata": {},
     "output_type": "display_data"
    }
   ],
   "source": [
    "import matplotlib.ticker as tkr\n",
    "\n",
    "fig, ax = plt.subplots(figsize=(14,8))\n",
    "\n",
    "plt.plot(x_data, y_train_data, color='green', label='Training')\n",
    "plt.plot(x_data, y_test_data, color='orange', label='Test')\n",
    "\n",
    "ax.set_xlabel('No. of features')\n",
    "ax.set_ylabel('MSE')\n",
    "ax.set_title('MSE vs. No. of features')\n",
    "\n",
    "ax.set_xticks(x_data)                   # Set the locations of the tick marks\n",
    "ax.set_xticklabels(x_data)              # Set the text values of the tick labels\n",
    "\n",
    "ax.get_yaxis().set_major_formatter(tkr.FuncFormatter(lambda x, p: format(int(x), ',')))\n",
    "\n",
    "fig.tight_layout()\n",
    "\n",
    "plt.legend(bbox_to_anchor=(1, 0), loc=\"upper right\", bbox_transform=fig.transFigure,\n",
    "           ncol=2, columnspacing=0.5)\n",
    "plt.show()"
   ]
  },
  {
   "cell_type": "markdown",
   "metadata": {},
   "source": [
    "3 seems to be a good number of features with best performance on test data."
   ]
  }
 ],
 "metadata": {
  "kernelspec": {
   "display_name": "Python 3",
   "language": "python",
   "name": "python3"
  },
  "language_info": {
   "codemirror_mode": {
    "name": "ipython",
    "version": 3
   },
   "file_extension": ".py",
   "mimetype": "text/x-python",
   "name": "python",
   "nbconvert_exporter": "python",
   "pygments_lexer": "ipython3",
   "version": "3.6.6"
  }
 },
 "nbformat": 4,
 "nbformat_minor": 2
}
