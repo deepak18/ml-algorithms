{
 "cells": [
  {
   "cell_type": "markdown",
   "metadata": {},
   "source": [
    "# Logistic Regression\n",
    "\n",
    "It is a simple *classification* algorithm used when the dependent variable (target) is *categorical*. $y = \\sigma(w^Tx)$"
   ]
  },
  {
   "cell_type": "code",
   "execution_count": 1,
   "metadata": {
    "collapsed": true
   },
   "outputs": [],
   "source": [
    "import numpy as np\n",
    "import pandas as pd\n",
    "import matplotlib.pyplot as plt\n",
    "import math\n",
    "from collections import defaultdict\n",
    "import scipy.io as sio\n",
    "from IPython.display import display, Markdown, Math\n",
    "from pprint import pprint\n",
    "\n",
    "%matplotlib inline"
   ]
  },
  {
   "cell_type": "code",
   "execution_count": 2,
   "metadata": {
    "collapsed": true
   },
   "outputs": [],
   "source": [
    "def sigmoid(x):\n",
    "    return 1 / (1 + np.exp(-x))"
   ]
  },
  {
   "cell_type": "code",
   "execution_count": 3,
   "metadata": {
    "collapsed": true
   },
   "outputs": [],
   "source": [
    "def computeCost(X, y, theta, lamb):\n",
    "    # Cost fn = -1/n ∑[y log(h(x)) + (1-y)log(1-h(x))] + λ/2n ∑[θ^2]\n",
    "    y_hat = sigmoid(X * theta)\n",
    "    first = np.multiply(y, np.log(y_hat))\n",
    "    second = np.multiply((1 - y), np.log(1 - y_hat))\n",
    "    reg = (lamb / 2 * len(X)) * np.sum(np.power(theta[1:, :], 2))\n",
    "    return (-1/len(X)) * np.sum(first + second) + reg"
   ]
  },
  {
   "cell_type": "code",
   "execution_count": 4,
   "metadata": {
    "collapsed": true
   },
   "outputs": [],
   "source": [
    "def stochasticGradientDescentRidge(X, y, theta, alpha, minibatch_size, lamb=0, threshold=0.0001, iters=1000):\n",
    "    \"\"\" optimizes weight vector (theta) with batch of minibatch_size in each iteration, until convergence\"\"\"\n",
    "\n",
    "    # to store temp theta to perform simultaneous update in current iteration\n",
    "    temp = np.matrix(np.zeros(theta.shape))\n",
    "    parameters = theta.ravel().shape[1]\n",
    "    cost = [np.inf]\n",
    "    \n",
    "    while True:\n",
    "        # iterating over feature matrix in batches\n",
    "        for b in range(math.ceil(len(X)/minibatch_size)):\n",
    "            # generates random samples without replacement, all unique\n",
    "            random_idx = np.random.choice(len(X), size=min(len(X), minibatch_size), replace = False)\n",
    "\n",
    "            # Get pair of (X, y) of the current minibatch/chunk\n",
    "            X_mini = X[random_idx]\n",
    "            y_mini = y[random_idx]\n",
    "            \n",
    "            error = sigmoid(np.dot(X_mini,theta)) - y_mini\n",
    "            \n",
    "            # updated each parameter/weight in theta\n",
    "            for j in range(parameters):\n",
    "                # training element-wise multiplication of jth feature with the error\n",
    "                term = np.multiply(error, X_mini[:, j])\n",
    "                temp[j, 0] = theta[j, 0] - ((alpha / len(X_mini)) * (np.sum(term) + lamb * theta[j, 0]))\n",
    "\n",
    "            theta = temp\n",
    "            \n",
    "        cost.append(computeCost(X, y, theta, lamb))\n",
    "        \n",
    "        if (cost[-2]-cost[-1]) > 0 and (cost[-2]-cost[-1]) < threshold:\n",
    "            break\n",
    "        \n",
    "    return theta, cost"
   ]
  },
  {
   "cell_type": "code",
   "execution_count": 5,
   "metadata": {
    "collapsed": true
   },
   "outputs": [],
   "source": [
    "def plotCostperEpoch(cost):\n",
    "    \"\"\" plots iteration v/s cost \"\"\"\n",
    "    fig, ax = plt.subplots(figsize=(14, 8))\n",
    "\n",
    "    plt.plot(np.arange(len(cost)), cost)\n",
    "    ax.set_xlabel('Iterations')\n",
    "    ax.set_ylabel('Cost')\n",
    "    ax.set_title('Error vs. Training Epoch')"
   ]
  },
  {
   "cell_type": "code",
   "execution_count": 6,
   "metadata": {
    "collapsed": true
   },
   "outputs": [],
   "source": [
    "def plotLogistic(X_train, y_train, X_test, y_test, theta, title):\n",
    "    \"\"\" Scatter plot to show classification using Logistic regression's hyperplane.\n",
    "    \n",
    "    highlights positive and negative classes in both training and test dataset.\n",
    "    plots the decision boundary to classify the two classes.\n",
    "    \"\"\"\n",
    "\n",
    "    # Dataframe with X and y concatenated\n",
    "    test_df = pd.DataFrame(data=np.column_stack((X_test[:, 1:], y_test)), columns=['X1','X2','Y'])\n",
    "    train_df = pd.DataFrame(data=np.column_stack((X_train[:, 1:], y_train)), columns=['X1','X2','Y'])\n",
    "\n",
    "    # Segregation of Testing and Training data into + and - classes\n",
    "    positive_test = test_df[test_df['Y'].isin([1])]  \n",
    "    negative_test = test_df[test_df['Y'].isin([0])]\n",
    "\n",
    "    positive_train = train_df[train_df['Y'].isin([1])]  \n",
    "    negative_train = train_df[train_df['Y'].isin([0])]\n",
    "    \n",
    "    fig, ax = plt.subplots(figsize=(12,8))  \n",
    "\n",
    "    w0 = theta.item(0)\n",
    "    w1, w2 = theta.item(1), theta.item(2)\n",
    "\n",
    "    x_hyperplane = np.arange(math.floor(train_df['X1'].min()), math.ceil(train_df['X1'].max()), 0.1)\n",
    "    y_hyperplane = (-w0-w1*x_hyperplane)/w2\n",
    "\n",
    "    ax.scatter(positive_train['X1'], positive_train['X2'], s=50, marker='^', label='Train Positive', c='b')  \n",
    "    ax.scatter(positive_test['X1'], positive_test['X2'], s=50, marker='^', label='Test Positive', \n",
    "               facecolors='none', edgecolors='b')  \n",
    "    \n",
    "    ax.scatter(negative_train['X1'], negative_train['X2'], s=50, marker='o', label='Train Negative', c='r')  \n",
    "    ax.scatter(negative_test['X1'], negative_test['X2'], s=50, marker='o', label='Test Negative', \n",
    "               facecolors='none', edgecolors='r')  \n",
    "    \n",
    "    plt.plot(x_hyperplane, y_hyperplane, 'k-', label='Decision Boundary')\n",
    "    \n",
    "    fig.tight_layout()\n",
    "    plt.legend(bbox_to_anchor=(1, 0), loc=\"upper right\", ncol=5,\n",
    "                bbox_transform=fig.transFigure, fontsize = 'medium', columnspacing = 0.5)  \n",
    "    \n",
    "    ax.set_xlabel('X1')  \n",
    "    ax.set_ylabel('X2') \n",
    "    plt.title(title)\n",
    "    plt.show()"
   ]
  },
  {
   "cell_type": "markdown",
   "metadata": {
    "collapsed": true
   },
   "source": [
    "### Tuning the Hyperparameter for Regularization ($\\lambda$):\n",
    "\n",
    "Optimal $\\lambda$: Minimum mean holdout set error"
   ]
  },
  {
   "cell_type": "code",
   "execution_count": 7,
   "metadata": {
    "collapsed": true
   },
   "outputs": [],
   "source": [
    "lambda_list = [0.01, 0.03, 0.1, 0.3, 1]"
   ]
  },
  {
   "cell_type": "code",
   "execution_count": 8,
   "metadata": {
    "collapsed": true
   },
   "outputs": [],
   "source": [
    "def regularizationParameter(X, y, kfolds, alpha, minibatch_size, threshold=0.0001,\n",
    "                            lambda_list = lambda_list):\n",
    "    \"\"\" finds the optimal lambda from lambda_list\n",
    "    \n",
    "    optimal lambda will be the one with minimum mean error on holdout set\n",
    "    \"\"\"\n",
    "    \n",
    "    theta0 = np.matrix(np.zeros((X.shape[1],1)))\n",
    "    \n",
    "    shuffled_idx = np.random.choice(len(X), size=len(X), replace = False)\n",
    "    idx_per_fold = math.floor(len(X)/kfolds)\n",
    "    if len(X) % kfolds !=0:\n",
    "        kfolds+=1\n",
    "        \n",
    "    lambda_errorlist = defaultdict(list)\n",
    "    \n",
    "    for lamb in lambda_list:\n",
    "        for k in range(kfolds):\n",
    "            #holdout_idx = np.arange(k*idx_per_fold, (k+1)*idx_per_fold)\n",
    "            holdout_idx = shuffled_idx[k*idx_per_fold : (k+1)*idx_per_fold]\n",
    "            #X_holdout = X[k*idx_per_fold : (k+1)*idx_per_fold]\n",
    "            #X_training = np.delete(X,holdout_idx, axis=0)\n",
    "            # Holdout data - kth fold\n",
    "            X_holdout = X[holdout_idx]\n",
    "            y_holdout = y[holdout_idx]\n",
    "            # Training data - other than kth fold\n",
    "            X_training = X[~holdout_idx]\n",
    "            y_training = y[~holdout_idx]\n",
    "            \n",
    "            thetalk, _ = stochasticGradientDescentRidge(X_training, y_training, theta0, alpha, minibatch_size, lamb, threshold)\n",
    "            holdout_error_lk = computeCost(X_holdout, y_holdout, thetalk, lamb)\n",
    "            \n",
    "            lambda_errorlist[lamb].append(holdout_error_lk)\n",
    "            #print(\"{0}th holdout error(λ={1}): {2}\".format(k, lamb, holdout_error_lk))\n",
    "            \n",
    "        print(\"Average error on {0}-holdout sets for lamda={1} is {2:.2f}\".format(kfolds, lamb, np.mean(lambda_errorlist[lamb])))\n",
    "    \n",
    "    # pprint(dict(lambda_errorlist))\n",
    "    # find optimal lambda i.e. with mimimum mean error on k holdout sets\n",
    "    lambda_optimal = min(lambda_errorlist, key= lambda l: np.mean(lambda_errorlist[l]))\n",
    "    \n",
    "    return lambda_optimal"
   ]
  },
  {
   "cell_type": "code",
   "execution_count": 9,
   "metadata": {
    "collapsed": true
   },
   "outputs": [],
   "source": [
    "def predict(theta, X):\n",
    "    \"\"\" translates the output of the hypothesis function (h(x) = g(θ^T x)) to a class\n",
    "    \n",
    "    1 if g(θ^T x) >= 0.5\n",
    "    0 if g(θ^T x) < 0.5\"\"\"\n",
    "    \n",
    "    probability = sigmoid(X * theta)\n",
    "    return [1 if x >= 0.5 else 0 for x in probability]"
   ]
  },
  {
   "cell_type": "markdown",
   "metadata": {},
   "source": [
    "### Dataset1"
   ]
  },
  {
   "cell_type": "code",
   "execution_count": 10,
   "metadata": {
    "collapsed": true
   },
   "outputs": [],
   "source": [
    "dataset1 = sio.loadmat('data1')"
   ]
  },
  {
   "cell_type": "code",
   "execution_count": 11,
   "metadata": {},
   "outputs": [
    {
     "data": {
      "text/plain": [
       "dict_keys(['__header__', '__version__', '__globals__', 'X_trn', 'X_tst', 'Y_trn', 'Y_tst'])"
      ]
     },
     "execution_count": 11,
     "metadata": {},
     "output_type": "execute_result"
    }
   ],
   "source": [
    "dataset1.keys()"
   ]
  },
  {
   "cell_type": "code",
   "execution_count": 12,
   "metadata": {
    "collapsed": true
   },
   "outputs": [],
   "source": [
    "X1_train, y1_train = np.matrix(dataset1['X_trn']), np.matrix(dataset1['Y_trn'])\n",
    "X1_test, y1_test = np.matrix(dataset1['X_tst']), np.matrix(dataset1['Y_tst'])"
   ]
  },
  {
   "cell_type": "code",
   "execution_count": 13,
   "metadata": {},
   "outputs": [
    {
     "data": {
      "text/plain": [
       "((136, 2), (136, 1))"
      ]
     },
     "execution_count": 13,
     "metadata": {},
     "output_type": "execute_result"
    }
   ],
   "source": [
    "X1_train.shape, y1_train.shape"
   ]
  },
  {
   "cell_type": "code",
   "execution_count": 14,
   "metadata": {},
   "outputs": [
    {
     "data": {
      "text/plain": [
       "((14, 2), (14, 1))"
      ]
     },
     "execution_count": 14,
     "metadata": {},
     "output_type": "execute_result"
    }
   ],
   "source": [
    "X1_test.shape, y1_test.shape"
   ]
  },
  {
   "cell_type": "code",
   "execution_count": 15,
   "metadata": {
    "collapsed": true
   },
   "outputs": [],
   "source": [
    "# Adding Intercept term (a column with all 1s) to Feature Vectors\n",
    "X1_train = np.hstack((np.ones((X1_train.shape[0], 1)), X1_train))\n",
    "X1_test = np.hstack((np.ones((X1_test.shape[0], 1)), X1_test))"
   ]
  },
  {
   "cell_type": "markdown",
   "metadata": {},
   "source": [
    "**Mini-batch Gradient Descent**"
   ]
  },
  {
   "cell_type": "code",
   "execution_count": 16,
   "metadata": {},
   "outputs": [
    {
     "name": "stdout",
     "output_type": "stream",
     "text": [
      "Average error on 11-holdout sets for lamda=0.01 is 0.56\n",
      "Average error on 11-holdout sets for lamda=0.03 is 0.58\n",
      "Average error on 11-holdout sets for lamda=0.1 is 0.62\n",
      "Average error on 11-holdout sets for lamda=0.3 is 0.66\n",
      "Average error on 11-holdout sets for lamda=1 is 0.68\n",
      "\n",
      "Optimal lambda on 1-degree polynomial data: 0.01\n"
     ]
    }
   ],
   "source": [
    "alpha = 0.0001           # learning-rate\n",
    "minibatch_size = 5       # batch size\n",
    "kfolds_10 = 10           # 10-folds\n",
    "\n",
    "lambda_optimal1_10k = regularizationParameter(X1_train, y1_train, kfolds_10, alpha, minibatch_size)\n",
    "print(\"\\nOptimal lambda on 1-degree polynomial data: {}\".format(lambda_optimal1_10k))"
   ]
  },
  {
   "cell_type": "code",
   "execution_count": 17,
   "metadata": {},
   "outputs": [
    {
     "data": {
      "text/markdown": [
       "Initial  $\\theta_{ridge}$ = "
      ],
      "text/plain": [
       "<IPython.core.display.Markdown object>"
      ]
     },
     "metadata": {},
     "output_type": "display_data"
    },
    {
     "data": {
      "text/plain": [
       "matrix([[0.],\n",
       "        [0.],\n",
       "        [0.]])"
      ]
     },
     "metadata": {},
     "output_type": "display_data"
    }
   ],
   "source": [
    "theta0_1 = np.matrix(np.zeros((X1_train.shape[1], 1)))\n",
    "display(Markdown(r'Initial  $\\theta_{ridge}$ = ') , theta0_1)"
   ]
  },
  {
   "cell_type": "code",
   "execution_count": 18,
   "metadata": {},
   "outputs": [
    {
     "data": {
      "text/markdown": [
       "$\\theta_{ridge}$ for 1-degree polynomial (Stochastic Logistic Regression)"
      ],
      "text/plain": [
       "<IPython.core.display.Markdown object>"
      ]
     },
     "metadata": {},
     "output_type": "display_data"
    },
    {
     "data": {
      "text/plain": [
       "matrix([[ 0.00695499],\n",
       "        [ 0.26538926],\n",
       "        [-0.19604697]])"
      ]
     },
     "metadata": {},
     "output_type": "display_data"
    }
   ],
   "source": [
    "theta_sg1, cost_sg1 = stochasticGradientDescentRidge(X1_train, y1_train, theta0_1, \n",
    "                                                     alpha, minibatch_size=10, lamb=lambda_optimal1_10k, \n",
    "                                                     threshold=0.0001)\n",
    "\n",
    "display(Markdown(r'$\\theta_{ridge}$' + ' for 1-degree polynomial (Stochastic Logistic Regression)'))\n",
    "display(theta_sg1)"
   ]
  },
  {
   "cell_type": "markdown",
   "metadata": {},
   "source": [
    "### Classification error on training and test dataset1"
   ]
  },
  {
   "cell_type": "code",
   "execution_count": 19,
   "metadata": {},
   "outputs": [
    {
     "name": "stdout",
     "output_type": "stream",
     "text": [
      "Classification Error = 0.01\n",
      "No of mis-classified Training data points: 1\n",
      "accuracy = 99.26%\n"
     ]
    }
   ],
   "source": [
    "predictions_trn = predict(theta_sg1, X1_train)  \n",
    "correct = [1 if a == b[0] else 0 for (a, b) in zip(predictions_trn, y1_train.tolist())]  \n",
    "accuracy = (sum(map(int, correct)) / len(correct)*100)  \n",
    "print('Classification Error = {0:.2f}'.format(correct.count(0)/len(correct)))\n",
    "print('No of mis-classified Training data points: {0}'.format(correct.count(0)))\n",
    "print('accuracy = {0:.2f}%'.format(accuracy))"
   ]
  },
  {
   "cell_type": "code",
   "execution_count": 20,
   "metadata": {},
   "outputs": [
    {
     "name": "stdout",
     "output_type": "stream",
     "text": [
      "Classification Error = 0.00\n",
      "No of mis-classified Test data points: 0\n",
      "accuracy = 100.00%\n"
     ]
    }
   ],
   "source": [
    "predictions_tst = predict(theta_sg1, X1_test)  \n",
    "correct = [1 if a == b[0] else 0 for (a, b) in zip(predictions_tst, y1_test.tolist())]  \n",
    "accuracy = (sum(map(int, correct)) / len(correct)*100)  \n",
    "print('Classification Error = {0:.2f}'.format(correct.count(0)/len(correct)))\n",
    "print('No of mis-classified Test data points: {0}'.format(correct.count(0)))\n",
    "print('accuracy = {0:.2f}%'.format(accuracy))"
   ]
  },
  {
   "cell_type": "code",
   "execution_count": 21,
   "metadata": {},
   "outputs": [
    {
     "data": {
      "image/png": "[encoded data removed]",
      "text/plain": [
       "<Figure size 864x576 with 1 Axes>"
      ]
     },
     "metadata": {},
     "output_type": "display_data"
    }
   ],
   "source": [
    "plotLogistic(X1_train, y1_train, X1_test, y1_test, theta_sg1, title = \"Logistic Regression - Dataset 1\")"
   ]
  },
  {
   "cell_type": "markdown",
   "metadata": {},
   "source": [
    "### Dataset 2"
   ]
  },
  {
   "cell_type": "code",
   "execution_count": 22,
   "metadata": {
    "collapsed": true
   },
   "outputs": [],
   "source": [
    "dataset2 = sio.loadmat('data2')"
   ]
  },
  {
   "cell_type": "code",
   "execution_count": 23,
   "metadata": {
    "collapsed": true
   },
   "outputs": [],
   "source": [
    "X2_train, y2_train = np.matrix(dataset2['X_trn']), np.matrix(dataset2['Y_trn'])\n",
    "X2_test, y2_test = np.matrix(dataset2['X_tst']), np.matrix(dataset2['Y_tst'])"
   ]
  },
  {
   "cell_type": "code",
   "execution_count": 24,
   "metadata": {
    "collapsed": true
   },
   "outputs": [],
   "source": [
    "X2_train = np.hstack((np.ones((X2_train.shape[0], 1)), X2_train))\n",
    "X2_test = np.hstack((np.ones((X2_test.shape[0], 1)), X2_test))"
   ]
  },
  {
   "cell_type": "markdown",
   "metadata": {},
   "source": [
    "**Mini-batch Gradient Descent**"
   ]
  },
  {
   "cell_type": "code",
   "execution_count": 25,
   "metadata": {},
   "outputs": [
    {
     "name": "stdout",
     "output_type": "stream",
     "text": [
      "Average error on 11-holdout sets for lamda=0.01 is 0.69\n",
      "Average error on 11-holdout sets for lamda=0.03 is 0.69\n",
      "Average error on 11-holdout sets for lamda=0.1 is 0.69\n",
      "Average error on 11-holdout sets for lamda=0.3 is 0.69\n",
      "Average error on 11-holdout sets for lamda=1 is 0.69\n",
      "\n",
      "Optimal lambda on 1-degree polynomial data: 0.1\n"
     ]
    }
   ],
   "source": [
    "alpha = 0.0001\n",
    "minibatch_size = 5\n",
    "kfolds_10 = 10\n",
    "\n",
    "lambda_optimal2_10k = regularizationParameter(X2_train, y2_train, kfolds_10, alpha, minibatch_size)\n",
    "print(\"\\nOptimal lambda on 1-degree polynomial data: {}\".format(lambda_optimal2_10k))"
   ]
  },
  {
   "cell_type": "code",
   "execution_count": 26,
   "metadata": {},
   "outputs": [
    {
     "data": {
      "text/markdown": [
       "Initial  $\\theta_{ridge}$ = "
      ],
      "text/plain": [
       "<IPython.core.display.Markdown object>"
      ]
     },
     "metadata": {},
     "output_type": "display_data"
    },
    {
     "data": {
      "text/plain": [
       "matrix([[0.],\n",
       "        [0.],\n",
       "        [0.]])"
      ]
     },
     "metadata": {},
     "output_type": "display_data"
    }
   ],
   "source": [
    "theta0_2 = np.matrix(np.zeros((X2_train.shape[1],1)))\n",
    "display(Markdown(r'Initial  $\\theta_{ridge}$ = ') , theta0_2)"
   ]
  },
  {
   "cell_type": "code",
   "execution_count": 27,
   "metadata": {},
   "outputs": [
    {
     "data": {
      "text/markdown": [
       "$\\theta_{ridge}$ for 1-degree polynomial (Stochastic Logistic Regression)"
      ],
      "text/plain": [
       "<IPython.core.display.Markdown object>"
      ]
     },
     "metadata": {},
     "output_type": "display_data"
    },
    {
     "data": {
      "text/plain": [
       "matrix([[-0.00017902],\n",
       "        [ 0.02602756],\n",
       "        [-0.0131963 ]])"
      ]
     },
     "metadata": {},
     "output_type": "display_data"
    }
   ],
   "source": [
    "theta_sg2, cost_sg2 = stochasticGradientDescentRidge(X2_train, y2_train, theta0_2, alpha=0.0001,\n",
    "                                                     minibatch_size=10, lamb=lambda_optimal2_10k, threshold=0.0001)\n",
    "display(Markdown(r'$\\theta_{ridge}$' + ' for 1-degree polynomial (Stochastic Logistic Regression)'))\n",
    "display(theta_sg2)"
   ]
  },
  {
   "cell_type": "markdown",
   "metadata": {},
   "source": [
    "### Classification error on training and test dataset2"
   ]
  },
  {
   "cell_type": "code",
   "execution_count": 28,
   "metadata": {},
   "outputs": [
    {
     "name": "stdout",
     "output_type": "stream",
     "text": [
      "Classification Error = 0.11\n",
      "No of mis-classified Training data points: 14\n",
      "accuracy = 88.89%\n"
     ]
    }
   ],
   "source": [
    "predictions_trn_2 = predict(theta_sg2, X2_train)  \n",
    "correct = [1 if ((a == 1 and b[0] == 1) or (a == 0 and b[0] == 0)) else 0 for (a, b) in zip(predictions_trn_2, y2_train.tolist())]  \n",
    "accuracy = (sum(map(int, correct)) / len(correct)*100)  \n",
    "print('Classification Error = {0:.2f}'.format(correct.count(0)/len(correct)))\n",
    "print('No of mis-classified Training data points: {0}'.format(correct.count(0)))\n",
    "print('accuracy = {0:.2f}%'.format(accuracy))"
   ]
  },
  {
   "cell_type": "code",
   "execution_count": 29,
   "metadata": {},
   "outputs": [
    {
     "name": "stdout",
     "output_type": "stream",
     "text": [
      "Classification Error = 0.14\n",
      "No of mis-classified Test data points: 2\n",
      "accuracy = 85.71%\n"
     ]
    }
   ],
   "source": [
    "predictions_tst_2 = predict(theta_sg2, X2_test)  \n",
    "correct = [1 if ((a == 1 and b[0] == 1) or (a == 0 and b[0] == 0)) else 0 for (a, b) in zip(predictions_tst_2, y2_test.tolist())]  \n",
    "accuracy = (sum(map(int, correct)) / len(correct)*100)  \n",
    "print('Classification Error = {0:.2f}'.format(correct.count(0)/len(correct)))\n",
    "print('No of mis-classified Test data points: {0}'.format(correct.count(0)))\n",
    "print('accuracy = {0:.2f}%'.format(accuracy))"
   ]
  },
  {
   "cell_type": "code",
   "execution_count": 30,
   "metadata": {
    "scrolled": false
   },
   "outputs": [
    {
     "data": {
      "image/png": "[encoded data removed]",
      "text/plain": [
       "<Figure size 864x576 with 1 Axes>"
      ]
     },
     "metadata": {},
     "output_type": "display_data"
    }
   ],
   "source": [
    "plotLogistic(X2_train, y2_train, X2_test, y2_test, theta_sg2, title = \"Logistic Regression - Dataset 2\")"
   ]
  },
  {
   "cell_type": "markdown",
   "metadata": {},
   "source": [
    "Dataset 1 has very much separation in between data points of 2 classes, whereas data points from 2 classes are close enough in Dataset 2. As a result of which, the classifier has a higher error on the dataset 2 with higher no of misclassified points. \n",
    "Visually, the decision boundary works very well on dataset 1, but have a average performance on the dataset 2."
   ]
  }
 ],
 "metadata": {
  "kernelspec": {
   "display_name": "Python 3",
   "language": "python",
   "name": "python3"
  },
  "language_info": {
   "codemirror_mode": {
    "name": "ipython",
    "version": 3
   },
   "file_extension": ".py",
   "mimetype": "text/x-python",
   "name": "python",
   "nbconvert_exporter": "python",
   "pygments_lexer": "ipython3",
   "version": "3.6.6"
  }
 },
 "nbformat": 4,
 "nbformat_minor": 2
}
